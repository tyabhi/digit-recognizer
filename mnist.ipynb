{
 "cells": [
  {
   "cell_type": "markdown",
   "metadata": {},
   "source": [
    "In this model, I am using the dataset from kaggle MNIST-digit-recognizer\n",
    "https://www.kaggle.com/c/digit-recognizer/data\n",
    "Submission by\n",
    "--Abhishek Tyagi\n",
    "--tyagi007ty@gmail.com\n",
    "--7011442605"
   ]
  },
  {
   "cell_type": "code",
   "execution_count": 1,
   "metadata": {},
   "outputs": [
    {
     "name": "stderr",
     "output_type": "stream",
     "text": [
      "/Users/abhishektyagi/anaconda3/lib/python3.6/site-packages/h5py/__init__.py:36: FutureWarning: Conversion of the second argument of issubdtype from `float` to `np.floating` is deprecated. In future, it will be treated as `np.float64 == np.dtype(float).type`.\n",
      "  from ._conv import register_converters as _register_converters\n",
      "Using TensorFlow backend.\n"
     ]
    }
   ],
   "source": [
    "import pandas as pd\n",
    "import numpy as np\n",
    "\n",
    "np.random.seed(1212)\n",
    "\n",
    "import keras\n",
    "from keras.models import Model\n",
    "from keras.layers import *\n",
    "from keras import optimizers"
   ]
  },
  {
   "cell_type": "code",
   "execution_count": 2,
   "metadata": {},
   "outputs": [],
   "source": [
    "df_train = pd.read_csv('/Users/abhishektyagi/Downloads/digit-recognizer/train.csv')\n",
    "df_test = pd.read_csv('/Users/abhishektyagi/Downloads/digit-recognizer/test.csv')"
   ]
  },
  {
   "cell_type": "code",
   "execution_count": 3,
   "metadata": {},
   "outputs": [
    {
     "name": "stdout",
     "output_type": "stream",
     "text": [
      "(28000, 784)\n"
     ]
    }
   ],
   "source": [
    "df_features = df_train.iloc[:, 1:785]\n",
    "df_label = df_train.iloc[:, 0]\n",
    "X_test = df_test.iloc[:, 0:784]\n",
    "print(X_test.shape)"
   ]
  },
  {
   "cell_type": "code",
   "execution_count": 4,
   "metadata": {},
   "outputs": [
    {
     "name": "stderr",
     "output_type": "stream",
     "text": [
      "/Users/abhishektyagi/anaconda3/lib/python3.6/site-packages/ipykernel_launcher.py:6: FutureWarning: Method .as_matrix will be removed in a future version. Use .values instead.\n",
      "  \n",
      "/Users/abhishektyagi/anaconda3/lib/python3.6/site-packages/ipykernel_launcher.py:7: FutureWarning: Method .as_matrix will be removed in a future version. Use .values instead.\n",
      "  import sys\n",
      "/Users/abhishektyagi/anaconda3/lib/python3.6/site-packages/ipykernel_launcher.py:8: FutureWarning: Method .as_matrix will be removed in a future version. Use .values instead.\n",
      "  \n"
     ]
    }
   ],
   "source": [
    "from sklearn.model_selection import train_test_split\n",
    "X_train, X_cv, y_train, y_cv = train_test_split(df_features, df_label, \n",
    "                                                test_size = 0.2,\n",
    "                                                random_state = 1212)\n",
    "\n",
    "X_train = X_train.as_matrix().reshape(33600, 784)\n",
    "X_cv = X_cv.as_matrix().reshape(8400, 784) \n",
    "X_test = X_test.as_matrix().reshape(28000, 784)"
   ]
  },
  {
   "cell_type": "code",
   "execution_count": 5,
   "metadata": {},
   "outputs": [],
   "source": [
    "X_train = X_train.astype('float32'); X_cv= X_cv.astype('float32'); X_test = X_test.astype('float32')\n",
    "X_train /= 255; X_cv /= 255; X_test /= 255\n",
    "num_digits = 10\n",
    "y_train = keras.utils.to_categorical(y_train, num_digits)\n",
    "y_cv = keras.utils.to_categorical(y_cv, num_digits)"
   ]
  },
  {
   "cell_type": "code",
   "execution_count": 6,
   "metadata": {},
   "outputs": [],
   "source": [
    "n_input = 784\n",
    "n_hidden_1 = 300\n",
    "n_hidden_2 = 100\n",
    "n_hidden_3 = 100\n",
    "n_hidden_4 = 200 \n",
    "num_digits = 10"
   ]
  },
  {
   "cell_type": "code",
   "execution_count": 7,
   "metadata": {},
   "outputs": [
    {
     "name": "stderr",
     "output_type": "stream",
     "text": [
      "WARNING: Logging before flag parsing goes to stderr.\n",
      "W0619 17:17:08.615088 4321899968 deprecation_wrapper.py:119] From /Users/abhishektyagi/anaconda3/lib/python3.6/site-packages/keras/backend/tensorflow_backend.py:74: The name tf.get_default_graph is deprecated. Please use tf.compat.v1.get_default_graph instead.\n",
      "\n",
      "W0619 17:17:08.628261 4321899968 deprecation_wrapper.py:119] From /Users/abhishektyagi/anaconda3/lib/python3.6/site-packages/keras/backend/tensorflow_backend.py:517: The name tf.placeholder is deprecated. Please use tf.compat.v1.placeholder instead.\n",
      "\n",
      "W0619 17:17:08.631580 4321899968 deprecation_wrapper.py:119] From /Users/abhishektyagi/anaconda3/lib/python3.6/site-packages/keras/backend/tensorflow_backend.py:4138: The name tf.random_uniform is deprecated. Please use tf.random.uniform instead.\n",
      "\n"
     ]
    }
   ],
   "source": [
    "Inp = Input(shape=(784,))\n",
    "x = Dense(n_hidden_1, activation='relu', name = \"Hidden_Layer_1\")(Inp)\n",
    "x = Dense(n_hidden_2, activation='relu', name = \"Hidden_Layer_2\")(x)\n",
    "x = Dense(n_hidden_3, activation='relu', name = \"Hidden_Layer_3\")(x)\n",
    "x = Dense(n_hidden_4, activation='relu', name = \"Hidden_Layer_4\")(x)\n",
    "output = Dense(num_digits, activation='softmax', name = \"Output_Layer\")(x)"
   ]
  },
  {
   "cell_type": "code",
   "execution_count": 8,
   "metadata": {},
   "outputs": [],
   "source": [
    "model = Model(Inp, output)"
   ]
  },
  {
   "cell_type": "code",
   "execution_count": 9,
   "metadata": {},
   "outputs": [],
   "source": [
    "learning_rate = 0.1\n",
    "training_epochs = 20\n",
    "batch_size = 100"
   ]
  },
  {
   "cell_type": "code",
   "execution_count": 10,
   "metadata": {},
   "outputs": [
    {
     "name": "stderr",
     "output_type": "stream",
     "text": [
      "W0619 17:17:09.776020 4321899968 deprecation_wrapper.py:119] From /Users/abhishektyagi/anaconda3/lib/python3.6/site-packages/keras/optimizers.py:790: The name tf.train.Optimizer is deprecated. Please use tf.compat.v1.train.Optimizer instead.\n",
      "\n",
      "W0619 17:17:09.813194 4321899968 deprecation_wrapper.py:119] From /Users/abhishektyagi/anaconda3/lib/python3.6/site-packages/keras/backend/tensorflow_backend.py:3295: The name tf.log is deprecated. Please use tf.math.log instead.\n",
      "\n"
     ]
    }
   ],
   "source": [
    "adam = keras.optimizers.Adam(lr=0.01)\n",
    "model.compile(loss='categorical_crossentropy',\n",
    "              optimizer='adam',\n",
    "              metrics=['accuracy'])"
   ]
  },
  {
   "cell_type": "code",
   "execution_count": 11,
   "metadata": {},
   "outputs": [
    {
     "name": "stderr",
     "output_type": "stream",
     "text": [
      "W0619 17:17:10.028370 4321899968 deprecation.py:323] From /Users/abhishektyagi/anaconda3/lib/python3.6/site-packages/tensorflow/python/ops/math_grad.py:1250: add_dispatch_support.<locals>.wrapper (from tensorflow.python.ops.array_ops) is deprecated and will be removed in a future version.\n",
      "Instructions for updating:\n",
      "Use tf.where in 2.0, which has the same broadcast rule as np.where\n",
      "W0619 17:17:10.096282 4321899968 deprecation_wrapper.py:119] From /Users/abhishektyagi/anaconda3/lib/python3.6/site-packages/keras/backend/tensorflow_backend.py:986: The name tf.assign_add is deprecated. Please use tf.compat.v1.assign_add instead.\n",
      "\n"
     ]
    },
    {
     "name": "stdout",
     "output_type": "stream",
     "text": [
      "Train on 33600 samples, validate on 8400 samples\n",
      "Epoch 1/20\n",
      " - 3s - loss: 0.3383 - acc: 0.9000 - val_loss: 0.1581 - val_acc: 0.9520\n",
      "Epoch 2/20\n",
      " - 2s - loss: 0.1186 - acc: 0.9633 - val_loss: 0.1186 - val_acc: 0.9638\n",
      "Epoch 3/20\n",
      " - 2s - loss: 0.0806 - acc: 0.9752 - val_loss: 0.1033 - val_acc: 0.9694\n",
      "Epoch 4/20\n",
      " - 2s - loss: 0.0575 - acc: 0.9818 - val_loss: 0.0950 - val_acc: 0.9713\n",
      "Epoch 5/20\n",
      " - 2s - loss: 0.0471 - acc: 0.9851 - val_loss: 0.1201 - val_acc: 0.9651\n",
      "Epoch 6/20\n",
      " - 2s - loss: 0.0378 - acc: 0.9865 - val_loss: 0.0956 - val_acc: 0.9744\n",
      "Epoch 7/20\n",
      " - 2s - loss: 0.0300 - acc: 0.9903 - val_loss: 0.0989 - val_acc: 0.9727\n",
      "Epoch 8/20\n",
      " - 2s - loss: 0.0286 - acc: 0.9907 - val_loss: 0.0977 - val_acc: 0.9745\n",
      "Epoch 9/20\n",
      " - 2s - loss: 0.0208 - acc: 0.9928 - val_loss: 0.1180 - val_acc: 0.9715\n",
      "Epoch 10/20\n",
      " - 2s - loss: 0.0225 - acc: 0.9929 - val_loss: 0.1153 - val_acc: 0.9731\n",
      "Epoch 11/20\n",
      " - 2s - loss: 0.0153 - acc: 0.9950 - val_loss: 0.1263 - val_acc: 0.9704\n",
      "Epoch 12/20\n",
      " - 2s - loss: 0.0221 - acc: 0.9930 - val_loss: 0.0919 - val_acc: 0.9774\n",
      "Epoch 13/20\n",
      " - 2s - loss: 0.0143 - acc: 0.9953 - val_loss: 0.1123 - val_acc: 0.9765\n",
      "Epoch 14/20\n",
      " - 2s - loss: 0.0135 - acc: 0.9954 - val_loss: 0.1242 - val_acc: 0.9767\n",
      "Epoch 15/20\n",
      " - 2s - loss: 0.0181 - acc: 0.9940 - val_loss: 0.1089 - val_acc: 0.9760\n",
      "Epoch 16/20\n",
      " - 2s - loss: 0.0116 - acc: 0.9965 - val_loss: 0.1144 - val_acc: 0.9775\n",
      "Epoch 17/20\n",
      " - 2s - loss: 0.0142 - acc: 0.9950 - val_loss: 0.1248 - val_acc: 0.9749\n",
      "Epoch 18/20\n",
      " - 2s - loss: 0.0113 - acc: 0.9963 - val_loss: 0.1369 - val_acc: 0.9750\n",
      "Epoch 19/20\n",
      " - 2s - loss: 0.0124 - acc: 0.9962 - val_loss: 0.1151 - val_acc: 0.9768\n",
      "Epoch 20/20\n",
      " - 2s - loss: 0.0104 - acc: 0.9968 - val_loss: 0.1205 - val_acc: 0.9758\n"
     ]
    }
   ],
   "source": [
    "history = model.fit(X_train, y_train,\n",
    "                     batch_size = batch_size,\n",
    "                     epochs = training_epochs,\n",
    "                     verbose = 2,\n",
    "                     validation_data=(X_cv, y_cv))"
   ]
  },
  {
   "cell_type": "code",
   "execution_count": 12,
   "metadata": {},
   "outputs": [],
   "source": [
    "test_pred = pd.DataFrame(model.predict(X_test, batch_size=100))\n",
    "test_pred = pd.DataFrame(test_pred.idxmax(axis = 1))\n",
    "test_pred.index.name = 'ImageId'\n",
    "test_pred = test_pred.rename(columns = {0: 'Label'}).reset_index()\n",
    "test_pred['ImageId'] = test_pred['ImageId'] + 1"
   ]
  },
  {
   "cell_type": "code",
   "execution_count": 13,
   "metadata": {},
   "outputs": [],
   "source": [
    "test_pred.to_csv('submission.csv', index = False, header=True)"
   ]
  }
 ],
 "metadata": {
  "kernelspec": {
   "display_name": "Python 3",
   "language": "python",
   "name": "python3"
  },
  "language_info": {
   "codemirror_mode": {
    "name": "ipython",
    "version": 3
   },
   "file_extension": ".py",
   "mimetype": "text/x-python",
   "name": "python",
   "nbconvert_exporter": "python",
   "pygments_lexer": "ipython3",
   "version": "3.6.5"
  }
 },
 "nbformat": 4,
 "nbformat_minor": 2
}
